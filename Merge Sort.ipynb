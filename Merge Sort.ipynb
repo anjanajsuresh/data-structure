{
  "nbformat": 4,
  "nbformat_minor": 0,
  "metadata": {
    "colab": {
      "provenance": []
    },
    "kernelspec": {
      "name": "python3",
      "display_name": "Python 3"
    },
    "language_info": {
      "name": "python"
    }
  },
  "cells": [
    {
      "cell_type": "code",
      "execution_count": 3,
      "metadata": {
        "colab": {
          "base_uri": "https://localhost:8080/"
        },
        "id": "7uHw12mSTUGU",
        "outputId": "0252a2de-6366-49f3-cf97-23cf56992871"
      },
      "outputs": [
        {
          "output_type": "stream",
          "name": "stdout",
          "text": [
            "5\n",
            "1 4 3 2 5\n",
            "[1, 2, 3, 4, 5]\n"
          ]
        }
      ],
      "source": [
        "def MergeSortedList(list1,list2):\n",
        "    global count\n",
        "    new_list = []\n",
        "    i = 0\n",
        "    j = 0\n",
        "    while(i<len(list1) and j<len(list2)):\n",
        "        if list1[i] < list2[j]:\n",
        "            new_list.append(list1[i])\n",
        "            i = i+1\n",
        "        else:\n",
        "            new_list.append(list2[j])\n",
        "            j=j+1\n",
        "            count = count + 1\n",
        "\n",
        "    while (i<len(list1)):\n",
        "        new_list.append(list1[i])\n",
        "        i = i+1\n",
        "    while (j<len(list2)):\n",
        "        new_list.append(list2[j])\n",
        "        j = j+1\n",
        "    return new_list\n",
        "\n",
        "def pythonMergeSort( theList ):\n",
        "\n",
        "    if len(theList) <= 1 :\n",
        "        return theList\n",
        "    else :\n",
        "        mid = len(theList) // 2\n",
        "\n",
        "        leftHalf = pythonMergeSort( theList[ :mid ] )\n",
        "        rightHalf = pythonMergeSort( theList[ mid: ] )\n",
        "        newList = MergeSortedList( leftHalf, rightHalf )\n",
        "        return newList\n",
        "\n",
        "\n",
        "n = int(input())\n",
        "ls = input()\n",
        "count = 0\n",
        "lst = []\n",
        "for i in range(n):\n",
        "    lst.append(int(ls.split(' ')[i]))\n",
        "\n",
        "res = pythonMergeSort(lst)\n",
        "print(res)\n",
        "#print(count)"
      ]
    }
  ]
}