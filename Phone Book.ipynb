{
  "nbformat": 4,
  "nbformat_minor": 0,
  "metadata": {
    "colab": {
      "provenance": []
    },
    "kernelspec": {
      "name": "python3",
      "display_name": "Python 3"
    },
    "language_info": {
      "name": "python"
    }
  },
  "cells": [
    {
      "cell_type": "code",
      "metadata": {
        "colab": {
          "base_uri": "https://localhost:8080/"
        },
        "id": "R8Gcd2a2LqF2",
        "outputId": "57b32630-6f25-4a35-c74e-80a3f1bb65c6"
      },
      "source": [
        "class PhoneNumber_Book:\n",
        "\n",
        "  def __init__(self):\n",
        "    self._thebook = dict()\n",
        "\n",
        "  def store(self,name,number):\n",
        "    if name not in self._thebook:\n",
        "      self._thebook[name]=number\n",
        "    else:\n",
        "      print(\"This name already exist in the contact\")\n",
        "\n",
        "  def retrieve(self,name):\n",
        "    if name in self._thebook:\n",
        "      return self._thebook[name]\n",
        "    else:\n",
        "      return \"This number doesnot exist in the phone book\"\n",
        "\n",
        "  def edit(self,name,number):\n",
        "    if name in self._thebook:\n",
        "      self._thebook[name]=number\n",
        "    else:\n",
        "      print(\"The name doesnot exist in the phone book\")\n",
        "\n",
        "  def delete(self,name):\n",
        "    del self._thebook[name]\n",
        "\n",
        "  def display( self ):\n",
        "        return self._thebook\n",
        "\n",
        "def __main__():\n",
        "\n",
        "  contacts = PhoneNumber_Book()\n",
        "  contacts.store('Abc',9876547867)\n",
        "  contacts.store('xyz',7654437867)\n",
        "  contacts.store('pqr',8734547867)\n",
        "  contacts.store('def',6759879567)\n",
        "\n",
        "  #contacts.store('amrita',8734547867)\n",
        "\n",
        "  print(\"ABC: \",contacts.retrieve('Abc'))\n",
        "\n",
        "  contacts.edit('Abc',9445678976)\n",
        "  print(\"After editing :\")\n",
        "  print(\"ABC: \",contacts.retrieve('Abc'))\n",
        "\n",
        "  contacts.delete('xyz')\n",
        "  print(\"Contact xyz deleted\")\n",
        "\n",
        "  print(\"XYZ : \",contacts.retrieve('xyz'))\n",
        "\n",
        "  print(\"DEF : \",contacts.retrieve('def'))\n",
        "\n",
        "  print(\"Contact list is :\",contacts.display())\n",
        "\n",
        "__main__()"
      ],
      "execution_count": 1,
      "outputs": [
        {
          "output_type": "stream",
          "name": "stdout",
          "text": [
            "ABC:  9876547867\n",
            "After editing :\n",
            "ABC:  9445678976\n",
            "Contact xyz deleted\n",
            "XYZ :  This number doesnot exist in the phone book\n",
            "DEF :  6759879567\n",
            "Contact list is : {'Abc': 9445678976, 'pqr': 8734547867, 'def': 6759879567}\n"
          ]
        }
      ]
    }
  ]
}